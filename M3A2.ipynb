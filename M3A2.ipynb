{
  "nbformat": 4,
  "nbformat_minor": 0,
  "metadata": {
    "colab": {
      "provenance": [],
      "authorship_tag": "ABX9TyNTR3/89W4bl+o5A+R4LAVo",
      "include_colab_link": true
    },
    "kernelspec": {
      "name": "python3",
      "display_name": "Python 3"
    },
    "language_info": {
      "name": "python"
    }
  },
  "cells": [
    {
      "cell_type": "markdown",
      "metadata": {
        "id": "view-in-github",
        "colab_type": "text"
      },
      "source": [
        "<a href=\"https://colab.research.google.com/github/jorge-rivera-udg/prog-est-m3a2/blob/main/M3A2.ipynb\" target=\"_parent\"><img src=\"https://colab.research.google.com/assets/colab-badge.svg\" alt=\"Open In Colab\"/></a>"
      ]
    },
    {
      "cell_type": "markdown",
      "source": [
        "# Programación estructurada. M3A2 - Diccionarios"
      ],
      "metadata": {
        "id": "W83XbADDFFZC"
      }
    },
    {
      "cell_type": "markdown",
      "source": [
        "### Ejercicio 01. Cuadrados"
      ],
      "metadata": {
        "id": "D9HONTw1FOtG"
      }
    },
    {
      "cell_type": "code",
      "source": [
        "\"\"\"\n",
        "Pida un numero al usuario, genere un diccionario utilizando los numeros del 1 al número ingresado como clave y los cuadrados de esos numeros como valor.\n",
        "\"\"\"\n",
        "\n",
        "# Genera diccionario de cuadrados.\n",
        "def generar_diccionario_cuadrados(numero):\n",
        "    return {i: i ** 2 for i in range(1, numero + 1)}\n",
        "\n",
        "# Pedir un número al usuario.\n",
        "numero = int(input(\"Ingrese un número: \"))\n",
        "\n",
        "# Generar el diccionario de cuadrados\n",
        "diccionario_cuadrados = generar_diccionario_cuadrados(numero)\n",
        "\n",
        "# Mostrar el diccionario\n",
        "print(\"Diccionario de cuadrados:\", diccionario_cuadrados)\n"
      ],
      "metadata": {
        "id": "-Qm_qh0flyQk"
      },
      "execution_count": null,
      "outputs": []
    },
    {
      "cell_type": "markdown",
      "source": [
        "### Ejercicio 02. Frutas"
      ],
      "metadata": {
        "id": "VOwxcDf-mCLh"
      }
    },
    {
      "cell_type": "code",
      "source": [
        "\"\"\"\n",
        "Pedir al usuario una lista de frutas, crear un diccionario con las frutas como clave y el precio por kilo como valor.\n",
        "Pedir al usuario una fruta un número de kilos y muestre el precio total. Si la fruta no está en el diccionario, mostrar\n",
        "un mensaje informando la ausencia de dicha fruta.\n",
        "\"\"\"\n",
        "\n",
        "# funcion para calcular el precio total\n",
        "def calcular_precio(frutas, fruta, kilos):\n",
        "    precio = frutas.get(fruta,None)\n",
        "    if precio is not None:\n",
        "        return precio * kilos\n",
        "    else:\n",
        "        return f\"No hay {fruta} en existencia\"\n",
        "\n",
        "\n",
        "frutas = {}\n",
        "\n",
        "# pedir al usuario una lista de frutas y precio por kilo\n",
        "while True:\n",
        "    try:\n",
        "        fruta = input(\"Ingrese una fruta (o 'fin' para terminar): \")\n",
        "        if fruta.lower() == 'fin':\n",
        "            break\n",
        "        precio = float(input(f\"Ingrese el precio por kilo de {fruta}: \"))\n",
        "        frutas[fruta] = precio\n",
        "    except ValueError:\n",
        "        print(\"Por favor, ingrese un precio válido.\")\n",
        "    except Exception as e:\n",
        "        print(f\"Error inesperado: {e}\")\n",
        "        break\n",
        "\n",
        "# pedir al usuario que selecione una fruta y un número de kilos\n",
        "while True:\n",
        "    try:\n",
        "        fruta = input(\"Ingrese la fruta que desea comprar (o 'fin' para terminar el programa) \")\n",
        "        if fruta.lower() == 'fin':\n",
        "            break\n",
        "        kilos = float(input(f\"Ingrese el número de kilos de {fruta}: \"))\n",
        "        print(f\"El precio total por {kilos} kilos de {fruta} es: {calcular_precio(frutas, fruta, kilos)}\")\n",
        "    except ValueError:\n",
        "        print(\"Por favor, ingrese un número válido.\")\n",
        "    except Exception as e:\n",
        "        print(f\"Error inesperado: {e}\")\n",
        "        break\n"
      ],
      "metadata": {
        "id": "5CVyrAwmmGpC"
      },
      "execution_count": null,
      "outputs": []
    },
    {
      "cell_type": "markdown",
      "source": [
        "### Ejercicio 03. Datos"
      ],
      "metadata": {
        "id": "ONL9RpLZm8Q-"
      }
    },
    {
      "cell_type": "code",
      "source": [
        "\"\"\"\n",
        "    Crear un programa que vaya pidiendo datos al usuario (nombre, edad, sexo, teléfono, email, dirección) y los almacene en un diccionario.\n",
        "    Con cada dato ingresado, se debe imprimir el diccionario actualizado.\n",
        "\"\"\"\n",
        "\n",
        "datos = {}\n",
        "info = ['nombre', 'edad', 'sexo', 'teléfono', 'email', 'dirección']\n",
        "\n",
        "# Función para agregar un dato al diccionario\n",
        "def agregar_dato(clave, valor):\n",
        "    datos[clave] = valor\n",
        "    print(f\"Diccionario actualizado: {datos}\")\n",
        "\n",
        "# Función para pedir datos al usuario\n",
        "for clave in info:\n",
        "    valor = input(f\"Ingrese {clave}: \")\n",
        "    agregar_dato(clave, valor)\n"
      ],
      "metadata": {
        "id": "vRcmajTRm_9g"
      },
      "execution_count": null,
      "outputs": []
    },
    {
      "cell_type": "markdown",
      "source": [
        "### Ejercicio 04. Agenda"
      ],
      "metadata": {
        "id": "PkPpjGGom_Xp"
      }
    },
    {
      "cell_type": "code",
      "source": [
        "\"\"\"\n",
        "    Crear una agenda telefónica que permita al usuario agregar, buscar, listar y eliminar nombres y números telefónicos.\n",
        "    Crear un menu con las opciones mencionadas. Agregar opcion de salir.\n",
        "\"\"\"\n",
        "\n",
        "# Inicializar la agenda como un diccionario vacío\n",
        "agenda = {}\n",
        "\n",
        "# Función para mostrar el menú\n",
        "def mostrar_menu():\n",
        "    print(\"\\n--- Agenda Telefónica ---\")\n",
        "    print(\"1. Agregar contacto\")\n",
        "    print(\"2. Buscar contacto\")\n",
        "    print(\"3. Listar contactos\")\n",
        "    print(\"4. Eliminar contacto\")\n",
        "    print(\"5. Salir\")\n",
        "    print(\"-------------------------\")\n",
        "    return int(input(\"Seleccione una opción: \"))\n",
        "\n",
        "# Función para agregar un contacto\n",
        "def agregar_contacto():\n",
        "    nombre = input(\"Ingrese el nombre del contacto: \")\n",
        "    telefono = input(\"Ingrese el número de teléfono: \")\n",
        "\n",
        "    if nombre in agenda:\n",
        "        print(f\"El contacto {nombre} ya existe. ¿Desea actualizar el número? (s/n)\")\n",
        "        respuesta = input().lower()\n",
        "        if respuesta == 's':\n",
        "            agenda[nombre] = telefono\n",
        "            print(f\"Contacto {nombre} actualizado con éxito.\")\n",
        "        else:\n",
        "            print(\"No se realizaron cambios.\")\n",
        "    else:\n",
        "        agenda[nombre] = telefono\n",
        "        print(f\"Contacto {nombre} agregado con éxito.\")\n",
        "\n",
        "# Función para buscar un contacto\n",
        "def buscar_contacto():\n",
        "    nombre = input(\"Ingrese el nombre del contacto a buscar: \")\n",
        "    if nombre in agenda:\n",
        "        print(f\"{nombre}: {agenda[nombre]}\")\n",
        "    else:\n",
        "        print(f\"El contacto {nombre} no se encuentra en la agenda.\")\n",
        "\n",
        "# Función para listar todos los contactos\n",
        "def listar_contactos():\n",
        "    if agenda:\n",
        "        print(\"\\n--- Lista de Contactos ---\")\n",
        "        for nombre, telefono in agenda.items():\n",
        "            print(f\"{nombre}: {telefono}\")\n",
        "    else:\n",
        "        print(\"La agenda está vacía.\")\n",
        "\n",
        "# Función para eliminar un contacto\n",
        "def eliminar_contacto():\n",
        "    nombre = input(\"Ingrese el nombre del contacto a eliminar: \")\n",
        "    if nombre in agenda:\n",
        "        agenda.pop(nombre)\n",
        "        print(f\"Contacto {nombre} eliminado con éxito.\")\n",
        "    else:\n",
        "        print(f\"El contacto {nombre} no se encuentra en la agenda.\")\n",
        "\n",
        "# Bucle principal\n",
        "while True:\n",
        "    opcion = mostrar_menu()\n",
        "\n",
        "    if opcion == 1:\n",
        "        agregar_contacto()\n",
        "    elif opcion == 2:\n",
        "        buscar_contacto()\n",
        "    elif opcion == 3:\n",
        "        listar_contactos()\n",
        "    elif opcion == 4:\n",
        "        eliminar_contacto()\n",
        "    elif opcion == 5:\n",
        "        print(\"Saliendo de la agenda. ¡Hasta luego!\")\n",
        "        break\n",
        "    else:\n",
        "        print(\"Opción no válida. Por favor, seleccione una opción del menú.\")\n"
      ],
      "metadata": {
        "id": "yxE1Sv6inLKk"
      },
      "execution_count": null,
      "outputs": []
    }
  ]
}